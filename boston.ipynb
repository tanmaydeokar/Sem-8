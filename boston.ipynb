{
 "cells": [
  {
   "cell_type": "code",
   "execution_count": 1,
   "metadata": {
    "id": "w7vqkBrmv2uc"
   },
   "outputs": [
    {
     "data": {
      "text/plain": [
       "\"\\nThe Boston Housing Dataset\\n\\nThe Boston Housing Dataset is a derived from information collected by the U.S. Census Service concerning housing in the area of Boston MA. The following describes the dataset columns:\\n\\nCRIM - per capita crime rate by town\\nZN - proportion of residential land zoned for lots over 25,000 sq.ft.\\nINDUS - proportion of non-retail business acres per town.\\nCHAS - Charles River dummy variable (1 if tract bounds river; 0 otherwise)\\nNOX - nitric oxides concentration (parts per 10 million)\\nRM - average number of rooms per dwelling\\nAGE - proportion of owner-occupied units built prior to 1940\\nDIS - weighted distances to five Boston employment centres\\nRAD - index of accessibility to radial highways\\nTAX - full-value property-tax rate per $10,000\\nPTRATIO - pupil-teacher ratio by town\\nB - 1000(Bk - 0.63)^2 where Bk is the proportion of blacks by town\\nLSTAT - % lower status of the population\\nMEDV - Median value of owner-occupied homes in $1000's\\n\""
      ]
     },
     "execution_count": 1,
     "metadata": {},
     "output_type": "execute_result"
    }
   ],
   "source": [
    "#importing necessary libraries\n",
    "import pandas as pd\n",
    "import numpy as np\n",
    "'''\n",
    "The Boston Housing Dataset\n",
    "\n",
    "The Boston Housing Dataset is a derived from information collected by the U.S. Census Service concerning housing in the area of Boston MA. The following describes the dataset columns:\n",
    "\n",
    "CRIM - per capita crime rate by town\n",
    "ZN - proportion of residential land zoned for lots over 25,000 sq.ft.\n",
    "INDUS - proportion of non-retail business acres per town.\n",
    "CHAS - Charles River dummy variable (1 if tract bounds river; 0 otherwise)\n",
    "NOX - nitric oxides concentration (parts per 10 million)\n",
    "RM - average number of rooms per dwelling\n",
    "AGE - proportion of owner-occupied units built prior to 1940\n",
    "DIS - weighted distances to five Boston employment centres\n",
    "RAD - index of accessibility to radial highways\n",
    "TAX - full-value property-tax rate per $10,000\n",
    "PTRATIO - pupil-teacher ratio by town\n",
    "B - 1000(Bk - 0.63)^2 where Bk is the proportion of blacks by town\n",
    "LSTAT - % lower status of the population\n",
    "MEDV - Median value of owner-occupied homes in $1000's\n",
    "'''"
   ]
  },
  {
   "cell_type": "code",
   "execution_count": 2,
   "metadata": {
    "id": "v74fSFcfv-Qd"
   },
   "outputs": [],
   "source": [
    "from sklearn.model_selection import train_test_split\n",
    "from sklearn.preprocessing import StandardScaler"
   ]
  },
  {
   "cell_type": "code",
   "execution_count": 5,
   "metadata": {
    "id": "mL6ylab0wdaF"
   },
   "outputs": [],
   "source": [
    "#reading the dataset\n",
    "data=pd.read_csv(\"boston.csv\")"
   ]
  },
  {
   "cell_type": "code",
   "execution_count": 9,
   "metadata": {
    "colab": {
     "base_uri": "https://localhost:8080/",
     "height": 206
    },
    "id": "LyTnr_mixbW9",
    "outputId": "08309ef9-cfa9-43eb-8adf-a0620928cae8"
   },
   "outputs": [
    {
     "data": {
      "text/html": [
       "<div>\n",
       "<style scoped>\n",
       "    .dataframe tbody tr th:only-of-type {\n",
       "        vertical-align: middle;\n",
       "    }\n",
       "\n",
       "    .dataframe tbody tr th {\n",
       "        vertical-align: top;\n",
       "    }\n",
       "\n",
       "    .dataframe thead th {\n",
       "        text-align: right;\n",
       "    }\n",
       "</style>\n",
       "<table border=\"1\" class=\"dataframe\">\n",
       "  <thead>\n",
       "    <tr style=\"text-align: right;\">\n",
       "      <th></th>\n",
       "      <th>crim</th>\n",
       "      <th>zn</th>\n",
       "      <th>indus</th>\n",
       "      <th>chas</th>\n",
       "      <th>nox</th>\n",
       "      <th>rm</th>\n",
       "      <th>age</th>\n",
       "      <th>dis</th>\n",
       "      <th>rad</th>\n",
       "      <th>tax</th>\n",
       "      <th>ptratio</th>\n",
       "      <th>b</th>\n",
       "      <th>lstat</th>\n",
       "      <th>MEDV</th>\n",
       "    </tr>\n",
       "  </thead>\n",
       "  <tbody>\n",
       "    <tr>\n",
       "      <th>0</th>\n",
       "      <td>0.00632</td>\n",
       "      <td>18.0</td>\n",
       "      <td>2.31</td>\n",
       "      <td>0</td>\n",
       "      <td>0.538</td>\n",
       "      <td>6.575</td>\n",
       "      <td>65.2</td>\n",
       "      <td>4.0900</td>\n",
       "      <td>1</td>\n",
       "      <td>296</td>\n",
       "      <td>15.3</td>\n",
       "      <td>396.90</td>\n",
       "      <td>4.98</td>\n",
       "      <td>24.0</td>\n",
       "    </tr>\n",
       "    <tr>\n",
       "      <th>1</th>\n",
       "      <td>0.02731</td>\n",
       "      <td>0.0</td>\n",
       "      <td>7.07</td>\n",
       "      <td>0</td>\n",
       "      <td>0.469</td>\n",
       "      <td>6.421</td>\n",
       "      <td>78.9</td>\n",
       "      <td>4.9671</td>\n",
       "      <td>2</td>\n",
       "      <td>242</td>\n",
       "      <td>17.8</td>\n",
       "      <td>396.90</td>\n",
       "      <td>9.14</td>\n",
       "      <td>21.6</td>\n",
       "    </tr>\n",
       "    <tr>\n",
       "      <th>2</th>\n",
       "      <td>0.02729</td>\n",
       "      <td>0.0</td>\n",
       "      <td>7.07</td>\n",
       "      <td>0</td>\n",
       "      <td>0.469</td>\n",
       "      <td>7.185</td>\n",
       "      <td>61.1</td>\n",
       "      <td>4.9671</td>\n",
       "      <td>2</td>\n",
       "      <td>242</td>\n",
       "      <td>17.8</td>\n",
       "      <td>392.83</td>\n",
       "      <td>4.03</td>\n",
       "      <td>34.7</td>\n",
       "    </tr>\n",
       "    <tr>\n",
       "      <th>3</th>\n",
       "      <td>0.03237</td>\n",
       "      <td>0.0</td>\n",
       "      <td>2.18</td>\n",
       "      <td>0</td>\n",
       "      <td>0.458</td>\n",
       "      <td>6.998</td>\n",
       "      <td>45.8</td>\n",
       "      <td>6.0622</td>\n",
       "      <td>3</td>\n",
       "      <td>222</td>\n",
       "      <td>18.7</td>\n",
       "      <td>394.63</td>\n",
       "      <td>2.94</td>\n",
       "      <td>33.4</td>\n",
       "    </tr>\n",
       "    <tr>\n",
       "      <th>4</th>\n",
       "      <td>0.06905</td>\n",
       "      <td>0.0</td>\n",
       "      <td>2.18</td>\n",
       "      <td>0</td>\n",
       "      <td>0.458</td>\n",
       "      <td>7.147</td>\n",
       "      <td>54.2</td>\n",
       "      <td>6.0622</td>\n",
       "      <td>3</td>\n",
       "      <td>222</td>\n",
       "      <td>18.7</td>\n",
       "      <td>396.90</td>\n",
       "      <td>5.33</td>\n",
       "      <td>36.2</td>\n",
       "    </tr>\n",
       "  </tbody>\n",
       "</table>\n",
       "</div>"
      ],
      "text/plain": [
       "      crim    zn  indus  chas    nox     rm   age     dis  rad  tax  ptratio  \\\n",
       "0  0.00632  18.0   2.31     0  0.538  6.575  65.2  4.0900    1  296     15.3   \n",
       "1  0.02731   0.0   7.07     0  0.469  6.421  78.9  4.9671    2  242     17.8   \n",
       "2  0.02729   0.0   7.07     0  0.469  7.185  61.1  4.9671    2  242     17.8   \n",
       "3  0.03237   0.0   2.18     0  0.458  6.998  45.8  6.0622    3  222     18.7   \n",
       "4  0.06905   0.0   2.18     0  0.458  7.147  54.2  6.0622    3  222     18.7   \n",
       "\n",
       "        b  lstat  MEDV  \n",
       "0  396.90   4.98  24.0  \n",
       "1  396.90   9.14  21.6  \n",
       "2  392.83   4.03  34.7  \n",
       "3  394.63   2.94  33.4  \n",
       "4  396.90   5.33  36.2  "
      ]
     },
     "execution_count": 9,
     "metadata": {},
     "output_type": "execute_result"
    }
   ],
   "source": [
    "#dataset \n",
    "data.head()"
   ]
  },
  {
   "cell_type": "code",
   "execution_count": 6,
   "metadata": {
    "colab": {
     "base_uri": "https://localhost:8080/"
    },
    "id": "Aw0edQ9Xznlv",
    "outputId": "5c533b71-a969-46df-9a46-4e330e5a5902"
   },
   "outputs": [
    {
     "data": {
      "text/plain": [
       "crim       0\n",
       "zn         0\n",
       "indus      0\n",
       "chas       0\n",
       "nox        0\n",
       "rm         0\n",
       "age        0\n",
       "dis        0\n",
       "rad        0\n",
       "tax        0\n",
       "ptratio    0\n",
       "b          0\n",
       "lstat      0\n",
       "MEDV       0\n",
       "dtype: int64"
      ]
     },
     "execution_count": 6,
     "metadata": {},
     "output_type": "execute_result"
    }
   ],
   "source": [
    "#checking null values\n",
    "data.isnull().sum()"
   ]
  },
  {
   "cell_type": "code",
   "execution_count": 7,
   "metadata": {
    "id": "ZnnPuW_2x9m1"
   },
   "outputs": [],
   "source": [
    "x=data.drop('MEDV',axis=1)"
   ]
  },
  {
   "cell_type": "code",
   "execution_count": 8,
   "metadata": {
    "id": "d80w3wHNy0lp"
   },
   "outputs": [],
   "source": [
    "y=data['MEDV']"
   ]
  },
  {
   "cell_type": "code",
   "execution_count": 9,
   "metadata": {
    "id": "-S48zDoYy7m3"
   },
   "outputs": [],
   "source": [
    "x_train,x_test,y_train,y_test=train_test_split(x,y,test_size=0.2,random_state=1)"
   ]
  },
  {
   "cell_type": "code",
   "execution_count": 10,
   "metadata": {
    "id": "2uEL1AcT0QqR"
   },
   "outputs": [],
   "source": [
    "scaler=StandardScaler()\n",
    "x_train=scaler.fit_transform(x_train)\n",
    "x_test=scaler.fit_transform(x_test)"
   ]
  },
  {
   "cell_type": "code",
   "execution_count": 11,
   "metadata": {
    "colab": {
     "base_uri": "https://localhost:8080/"
    },
    "id": "JJZQzlEh0tnc",
    "outputId": "a1f50fa7-ca6a-4d53-9e4d-83e4a82b24ee"
   },
   "outputs": [
    {
     "name": "stdout",
     "output_type": "stream",
     "text": [
      "Model: \"sequential\"\n",
      "_________________________________________________________________\n",
      " Layer (type)                Output Shape              Param #   \n",
      "=================================================================\n",
      " dense_1 (Dense)             (None, 128)               1792      \n",
      "                                                                 \n",
      " dense_2 (Dense)             (None, 64)                8256      \n",
      "                                                                 \n",
      " dense_output (Dense)        (None, 1)                 65        \n",
      "                                                                 \n",
      "=================================================================\n",
      "Total params: 10,113\n",
      "Trainable params: 10,113\n",
      "Non-trainable params: 0\n",
      "_________________________________________________________________\n"
     ]
    }
   ],
   "source": [
    "#model\n",
    "from keras.models import Sequential\n",
    "from keras.layers import Dense\n",
    "\n",
    "model = Sequential()\n",
    "\n",
    "model.add(Dense(128,input_shape = (13,),activation = 'relu',name='dense_1'))\n",
    "model.add(Dense(64,activation = 'relu',name = 'dense_2'))\n",
    "model.add(Dense(1,activation='linear',name='dense_output'))\n",
    "\n",
    "model.compile(optimizer = 'adam',loss='mse',metrics=['mae'])\n",
    "model.summary()\n"
   ]
  },
  {
   "cell_type": "code",
   "execution_count": 12,
   "metadata": {
    "colab": {
     "base_uri": "https://localhost:8080/"
    },
    "id": "xC-pC7i61qjO",
    "outputId": "434ef5ff-b87f-4010-e5e6-cb34174c68df"
   },
   "outputs": [
    {
     "name": "stdout",
     "output_type": "stream",
     "text": [
      "Epoch 1/50\n",
      "11/11 [==============================] - 3s 56ms/step - loss: 563.8854 - mae: 22.0242 - val_loss: 507.9347 - val_mae: 20.5704\n",
      "Epoch 2/50\n",
      "11/11 [==============================] - 0s 7ms/step - loss: 499.0536 - mae: 20.5394 - val_loss: 440.8920 - val_mae: 19.0148\n",
      "Epoch 3/50\n",
      "11/11 [==============================] - 0s 10ms/step - loss: 420.2083 - mae: 18.6241 - val_loss: 354.7427 - val_mae: 16.9033\n",
      "Epoch 4/50\n",
      "11/11 [==============================] - 0s 11ms/step - loss: 319.1486 - mae: 15.8857 - val_loss: 250.1375 - val_mae: 13.9542\n",
      "Epoch 5/50\n",
      "11/11 [==============================] - 0s 19ms/step - loss: 209.5889 - mae: 12.3335 - val_loss: 147.3681 - val_mae: 10.5182\n",
      "Epoch 6/50\n",
      "11/11 [==============================] - 0s 17ms/step - loss: 118.5874 - mae: 8.7603 - val_loss: 86.8210 - val_mae: 7.5146\n",
      "Epoch 7/50\n",
      "11/11 [==============================] - 0s 15ms/step - loss: 75.1346 - mae: 6.7799 - val_loss: 65.9300 - val_mae: 5.9939\n",
      "Epoch 8/50\n",
      "11/11 [==============================] - 0s 16ms/step - loss: 58.6369 - mae: 5.8295 - val_loss: 52.3469 - val_mae: 5.2231\n",
      "Epoch 9/50\n",
      "11/11 [==============================] - 0s 15ms/step - loss: 43.6362 - mae: 5.0026 - val_loss: 41.4818 - val_mae: 4.6647\n",
      "Epoch 10/50\n",
      "11/11 [==============================] - 0s 15ms/step - loss: 33.3036 - mae: 4.3108 - val_loss: 36.1031 - val_mae: 4.2878\n",
      "Epoch 11/50\n",
      "11/11 [==============================] - 0s 15ms/step - loss: 28.9841 - mae: 4.0041 - val_loss: 32.6206 - val_mae: 4.0226\n",
      "Epoch 12/50\n",
      "11/11 [==============================] - 0s 17ms/step - loss: 26.2760 - mae: 3.7768 - val_loss: 30.5633 - val_mae: 3.8493\n",
      "Epoch 13/50\n",
      "11/11 [==============================] - 0s 17ms/step - loss: 24.4805 - mae: 3.6368 - val_loss: 29.5838 - val_mae: 3.7306\n",
      "Epoch 14/50\n",
      "11/11 [==============================] - 0s 14ms/step - loss: 23.2762 - mae: 3.5233 - val_loss: 27.9011 - val_mae: 3.6366\n",
      "Epoch 15/50\n",
      "11/11 [==============================] - 0s 15ms/step - loss: 21.9532 - mae: 3.4354 - val_loss: 26.4657 - val_mae: 3.5805\n",
      "Epoch 16/50\n",
      "11/11 [==============================] - 0s 15ms/step - loss: 20.8997 - mae: 3.3420 - val_loss: 25.4874 - val_mae: 3.5216\n",
      "Epoch 17/50\n",
      "11/11 [==============================] - 0s 14ms/step - loss: 19.8638 - mae: 3.2747 - val_loss: 24.4936 - val_mae: 3.4749\n",
      "Epoch 18/50\n",
      "11/11 [==============================] - 0s 13ms/step - loss: 19.1753 - mae: 3.2302 - val_loss: 23.8302 - val_mae: 3.4464\n",
      "Epoch 19/50\n",
      "11/11 [==============================] - 0s 17ms/step - loss: 18.6513 - mae: 3.1611 - val_loss: 23.2435 - val_mae: 3.3777\n",
      "Epoch 20/50\n",
      "11/11 [==============================] - 0s 14ms/step - loss: 17.8710 - mae: 3.0514 - val_loss: 22.7586 - val_mae: 3.3201\n",
      "Epoch 21/50\n",
      "11/11 [==============================] - 0s 18ms/step - loss: 17.3455 - mae: 3.0008 - val_loss: 22.2074 - val_mae: 3.2772\n",
      "Epoch 22/50\n",
      "11/11 [==============================] - 0s 18ms/step - loss: 16.7524 - mae: 2.9427 - val_loss: 21.7609 - val_mae: 3.2381\n",
      "Epoch 23/50\n",
      "11/11 [==============================] - 0s 15ms/step - loss: 16.2723 - mae: 2.9017 - val_loss: 21.1468 - val_mae: 3.2035\n",
      "Epoch 24/50\n",
      "11/11 [==============================] - 0s 17ms/step - loss: 15.7239 - mae: 2.8593 - val_loss: 20.7248 - val_mae: 3.1738\n",
      "Epoch 25/50\n",
      "11/11 [==============================] - 0s 15ms/step - loss: 15.4102 - mae: 2.8301 - val_loss: 20.2827 - val_mae: 3.1373\n",
      "Epoch 26/50\n",
      "11/11 [==============================] - 0s 14ms/step - loss: 14.9353 - mae: 2.7831 - val_loss: 19.7914 - val_mae: 3.0975\n",
      "Epoch 27/50\n",
      "11/11 [==============================] - 0s 14ms/step - loss: 14.5845 - mae: 2.7400 - val_loss: 19.7047 - val_mae: 3.0497\n",
      "Epoch 28/50\n",
      "11/11 [==============================] - 0s 8ms/step - loss: 14.3187 - mae: 2.6827 - val_loss: 19.3422 - val_mae: 3.0048\n",
      "Epoch 29/50\n",
      "11/11 [==============================] - 0s 10ms/step - loss: 13.9546 - mae: 2.6571 - val_loss: 18.8568 - val_mae: 2.9746\n",
      "Epoch 30/50\n",
      "11/11 [==============================] - 0s 13ms/step - loss: 13.6564 - mae: 2.6352 - val_loss: 18.5749 - val_mae: 2.9298\n",
      "Epoch 31/50\n",
      "11/11 [==============================] - 0s 10ms/step - loss: 13.3714 - mae: 2.6037 - val_loss: 18.3747 - val_mae: 2.8904\n",
      "Epoch 32/50\n",
      "11/11 [==============================] - 0s 9ms/step - loss: 13.3347 - mae: 2.6044 - val_loss: 18.0971 - val_mae: 2.8658\n",
      "Epoch 33/50\n",
      "11/11 [==============================] - 0s 8ms/step - loss: 13.1630 - mae: 2.5573 - val_loss: 18.1959 - val_mae: 2.8546\n",
      "Epoch 34/50\n",
      "11/11 [==============================] - 0s 10ms/step - loss: 12.8759 - mae: 2.5335 - val_loss: 17.8244 - val_mae: 2.8460\n",
      "Epoch 35/50\n",
      "11/11 [==============================] - 0s 10ms/step - loss: 12.9178 - mae: 2.6078 - val_loss: 18.2663 - val_mae: 3.0274\n",
      "Epoch 36/50\n",
      "11/11 [==============================] - 0s 9ms/step - loss: 13.6060 - mae: 2.7190 - val_loss: 17.9360 - val_mae: 2.9825\n",
      "Epoch 37/50\n",
      "11/11 [==============================] - 0s 14ms/step - loss: 12.4693 - mae: 2.5791 - val_loss: 17.3254 - val_mae: 2.7844\n",
      "Epoch 38/50\n",
      "11/11 [==============================] - 0s 19ms/step - loss: 12.2177 - mae: 2.4947 - val_loss: 17.6203 - val_mae: 2.7488\n",
      "Epoch 39/50\n",
      "11/11 [==============================] - 0s 20ms/step - loss: 12.1081 - mae: 2.4708 - val_loss: 17.1729 - val_mae: 2.7511\n",
      "Epoch 40/50\n",
      "11/11 [==============================] - 0s 16ms/step - loss: 11.7779 - mae: 2.4617 - val_loss: 17.0824 - val_mae: 2.8574\n",
      "Epoch 41/50\n",
      "11/11 [==============================] - 0s 14ms/step - loss: 11.9138 - mae: 2.4841 - val_loss: 16.7260 - val_mae: 2.7826\n",
      "Epoch 42/50\n",
      "11/11 [==============================] - 0s 16ms/step - loss: 11.5225 - mae: 2.4156 - val_loss: 16.7878 - val_mae: 2.7054\n",
      "Epoch 43/50\n",
      "11/11 [==============================] - 0s 11ms/step - loss: 11.4074 - mae: 2.4062 - val_loss: 16.5937 - val_mae: 2.7066\n",
      "Epoch 44/50\n",
      "11/11 [==============================] - 0s 9ms/step - loss: 11.2195 - mae: 2.3936 - val_loss: 16.3581 - val_mae: 2.7280\n",
      "Epoch 45/50\n",
      "11/11 [==============================] - 0s 7ms/step - loss: 11.1131 - mae: 2.3748 - val_loss: 16.1696 - val_mae: 2.6765\n",
      "Epoch 46/50\n",
      "11/11 [==============================] - 0s 7ms/step - loss: 10.9981 - mae: 2.3525 - val_loss: 16.1848 - val_mae: 2.6575\n",
      "Epoch 47/50\n",
      "11/11 [==============================] - 0s 8ms/step - loss: 11.0218 - mae: 2.3388 - val_loss: 16.2970 - val_mae: 2.6226\n",
      "Epoch 48/50\n",
      "11/11 [==============================] - 0s 10ms/step - loss: 10.9093 - mae: 2.3604 - val_loss: 15.9467 - val_mae: 2.7093\n",
      "Epoch 49/50\n",
      "11/11 [==============================] - 0s 14ms/step - loss: 10.8243 - mae: 2.3626 - val_loss: 15.9420 - val_mae: 2.6243\n",
      "Epoch 50/50\n",
      "11/11 [==============================] - 0s 7ms/step - loss: 10.6440 - mae: 2.3281 - val_loss: 15.8491 - val_mae: 2.6059\n"
     ]
    }
   ],
   "source": [
    "history=model.fit(x_train,y_train,epochs=50,batch_size=32,validation_split=0.2)"
   ]
  },
  {
   "cell_type": "code",
   "execution_count": 13,
   "metadata": {
    "colab": {
     "base_uri": "https://localhost:8080/"
    },
    "id": "hdUVfnUv2ldk",
    "outputId": "2832512c-52c2-4e60-abf8-03446dbedbd1"
   },
   "outputs": [
    {
     "name": "stdout",
     "output_type": "stream",
     "text": [
      "4/4 [==============================] - 0s 3ms/step - loss: 11.1723 - mae: 2.6671\n",
      "mse: 11.172266006469727\n",
      "mae: 2.667060375213623\n"
     ]
    }
   ],
   "source": [
    "mse,mae=model.evaluate(x_test,y_test)\n",
    "print(\"mse:\",mse)\n",
    "print(\"mae:\",mae)"
   ]
  },
  {
   "cell_type": "code",
   "execution_count": 14,
   "metadata": {
    "colab": {
     "base_uri": "https://localhost:8080/"
    },
    "id": "ZrCE83Iu3DAL",
    "outputId": "5ab483cf-8cf0-4b59-94aa-2f5d33e2147f"
   },
   "outputs": [
    {
     "name": "stdout",
     "output_type": "stream",
     "text": [
      "4/4 [==============================] - 0s 4ms/step\n"
     ]
    }
   ],
   "source": [
    "y_pred = model.predict(x_test[:])"
   ]
  },
  {
   "cell_type": "code",
   "execution_count": 15,
   "metadata": {
    "id": "dgTjaPTQ32MZ"
   },
   "outputs": [],
   "source": [
    "p=[]\n",
    "for i in y_pred:\n",
    "    p.append(list(i)[0])"
   ]
  },
  {
   "cell_type": "code",
   "execution_count": 16,
   "metadata": {
    "id": "3AsQuEFU7Rqh"
   },
   "outputs": [
    {
     "data": {
      "text/html": [
       "<div>\n",
       "<style scoped>\n",
       "    .dataframe tbody tr th:only-of-type {\n",
       "        vertical-align: middle;\n",
       "    }\n",
       "\n",
       "    .dataframe tbody tr th {\n",
       "        vertical-align: top;\n",
       "    }\n",
       "\n",
       "    .dataframe thead th {\n",
       "        text-align: right;\n",
       "    }\n",
       "</style>\n",
       "<table border=\"1\" class=\"dataframe\">\n",
       "  <thead>\n",
       "    <tr style=\"text-align: right;\">\n",
       "      <th></th>\n",
       "      <th>actual</th>\n",
       "      <th>predicted</th>\n",
       "    </tr>\n",
       "  </thead>\n",
       "  <tbody>\n",
       "    <tr>\n",
       "      <th>307</th>\n",
       "      <td>28.2</td>\n",
       "      <td>29.459948</td>\n",
       "    </tr>\n",
       "    <tr>\n",
       "      <th>343</th>\n",
       "      <td>23.9</td>\n",
       "      <td>22.590395</td>\n",
       "    </tr>\n",
       "    <tr>\n",
       "      <th>47</th>\n",
       "      <td>16.6</td>\n",
       "      <td>21.010347</td>\n",
       "    </tr>\n",
       "    <tr>\n",
       "      <th>67</th>\n",
       "      <td>22.0</td>\n",
       "      <td>23.895338</td>\n",
       "    </tr>\n",
       "    <tr>\n",
       "      <th>362</th>\n",
       "      <td>20.8</td>\n",
       "      <td>21.190619</td>\n",
       "    </tr>\n",
       "    <tr>\n",
       "      <th>...</th>\n",
       "      <td>...</td>\n",
       "      <td>...</td>\n",
       "    </tr>\n",
       "    <tr>\n",
       "      <th>92</th>\n",
       "      <td>22.9</td>\n",
       "      <td>24.142698</td>\n",
       "    </tr>\n",
       "    <tr>\n",
       "      <th>224</th>\n",
       "      <td>44.8</td>\n",
       "      <td>43.452026</td>\n",
       "    </tr>\n",
       "    <tr>\n",
       "      <th>110</th>\n",
       "      <td>21.7</td>\n",
       "      <td>20.922251</td>\n",
       "    </tr>\n",
       "    <tr>\n",
       "      <th>426</th>\n",
       "      <td>10.2</td>\n",
       "      <td>14.378782</td>\n",
       "    </tr>\n",
       "    <tr>\n",
       "      <th>443</th>\n",
       "      <td>15.4</td>\n",
       "      <td>11.427428</td>\n",
       "    </tr>\n",
       "  </tbody>\n",
       "</table>\n",
       "<p>102 rows × 2 columns</p>\n",
       "</div>"
      ],
      "text/plain": [
       "     actual  predicted\n",
       "307    28.2  29.459948\n",
       "343    23.9  22.590395\n",
       "47     16.6  21.010347\n",
       "67     22.0  23.895338\n",
       "362    20.8  21.190619\n",
       "..      ...        ...\n",
       "92     22.9  24.142698\n",
       "224    44.8  43.452026\n",
       "110    21.7  20.922251\n",
       "426    10.2  14.378782\n",
       "443    15.4  11.427428\n",
       "\n",
       "[102 rows x 2 columns]"
      ]
     },
     "execution_count": 16,
     "metadata": {},
     "output_type": "execute_result"
    }
   ],
   "source": [
    "d = pd.DataFrame({'actual':y_test,'predicted':p})\n",
    "d"
   ]
  },
  {
   "cell_type": "code",
   "execution_count": 17,
   "metadata": {
    "colab": {
     "base_uri": "https://localhost:8080/",
     "height": 472
    },
    "id": "Oq4igthnAxkK",
    "outputId": "c80aa315-6dea-464a-adea-43dc9f98e2ef"
   },
   "outputs": [
    {
     "data": {
      "image/png": "[encoded data removed]",
      "text/plain": [
       "<Figure size 432x288 with 1 Axes>"
      ]
     },
     "metadata": {
      "needs_background": "light"
     },
     "output_type": "display_data"
    }
   ],
   "source": [
    "import matplotlib.pyplot as plt\n",
    "plt.plot(history.history['loss'])\n",
    "plt.plot(history.history['val_loss'])\n",
    "plt.title('model loss')\n",
    "plt.ylabel('loss')\n",
    "plt.xlabel('epoch')\n",
    "plt.legend(['train','test'],loc='upper left')\n",
    "plt.show()"
   ]
  },
  {
   "cell_type": "code",
   "execution_count": 18,
   "metadata": {
    "id": "Jml_nkKiBGGq"
   },
   "outputs": [
    {
     "data": {
      "image/png": "[encoded data removed]",
      "text/plain": [
       "<Figure size 720x432 with 1 Axes>"
      ]
     },
     "metadata": {
      "needs_background": "light"
     },
     "output_type": "display_data"
    }
   ],
   "source": [
    "import pandas as pd\n",
    "import matplotlib.pyplot as plt\n",
    "\n",
    "# Assuming y_test contains the actual values and p contains the predicted values\n",
    "d = pd.DataFrame({'Actual': y_test, 'Predicted': p})\n",
    "\n",
    "# Plot the graph\n",
    "plt.figure(figsize=(10, 6))\n",
    "plt.scatter(d['Actual'], d['Predicted'], c=['blue' if a > p else 'red' for a, p in zip(d['Actual'], d['Predicted'])])\n",
    "plt.title('Actual vs Predicted')\n",
    "plt.xlabel('Actual')\n",
    "plt.ylabel('Predicted')\n",
    "plt.show()\n"
   ]
  },
  {
   "cell_type": "code",
   "execution_count": null,
   "metadata": {},
   "outputs": [],
   "source": []
  },
  {
   "cell_type": "code",
   "execution_count": null,
   "metadata": {},
   "outputs": [],
   "source": []
  }
 ],
 "metadata": {
  "colab": {
   "provenance": []
  },
  "kernelspec": {
   "display_name": "Python 3 (ipykernel)",
   "language": "python",
   "name": "python3"
  },
  "language_info": {
   "codemirror_mode": {
    "name": "ipython",
    "version": 3
   },
   "file_extension": ".py",
   "mimetype": "text/x-python",
   "name": "python",
   "nbconvert_exporter": "python",
   "pygments_lexer": "ipython3",
   "version": "3.9.12"
  }
 },
 "nbformat": 4,
 "nbformat_minor": 1
}
