{
 "cells": [
  {
   "cell_type": "code",
   "execution_count": 1,
   "id": "3141df27",
   "metadata": {},
   "outputs": [],
   "source": [
    "import pandas as pd\n",
    "from sklearn.model_selection import train_test_split\n",
    "from sklearn.preprocessing import StandardScaler\n",
    "from sklearn.neural_network import MLPClassifier\n",
    "from sklearn.metrics import accuracy_score"
   ]
  },
  {
   "cell_type": "code",
   "execution_count": 2,
   "id": "c3fae7e2",
   "metadata": {},
   "outputs": [],
   "source": [
    "dataset = pd.read_csv(\"letter_recognition.data\", sep=\",\")\n",
    "X = dataset.iloc[:, 1:17]\n",
    "Y = dataset.iloc[:, 0]\n"
   ]
  },
  {
   "cell_type": "code",
   "execution_count": 3,
   "id": "e7a943f7",
   "metadata": {},
   "outputs": [],
   "source": [
    "X_train, X_test, Y_train, Y_test = train_test_split(X, Y, test_size=0.2, random_state=42)"
   ]
  },
  {
   "cell_type": "code",
   "execution_count": 4,
   "id": "e5b0a307",
   "metadata": {},
   "outputs": [],
   "source": [
    "scaler = StandardScaler()\n",
    "X_train_scaled = scaler.fit_transform(X_train)\n",
    "X_test_scaled = scaler.transform(X_test)"
   ]
  },
  {
   "cell_type": "code",
   "execution_count": 5,
   "id": "452d3f9f",
   "metadata": {},
   "outputs": [
    {
     "data": {
      "text/plain": [
       "MLPClassifier(activation='logistic', hidden_layer_sizes=(250, 300),\n",
       "              max_iter=1000000)"
      ]
     },
     "execution_count": 5,
     "metadata": {},
     "output_type": "execute_result"
    }
   ],
   "source": [
    "mlp = MLPClassifier(hidden_layer_sizes=(250, 300), max_iter=1000000, activation='logistic')\n",
    "mlp.fit(X_train_scaled, Y_train)"
   ]
  },
  {
   "cell_type": "code",
   "execution_count": 6,
   "id": "6f6fe244",
   "metadata": {},
   "outputs": [],
   "source": [
    "Y_pred = mlp.predict(X_test_scaled)"
   ]
  },
  {
   "cell_type": "code",
   "execution_count": 7,
   "id": "b91d6a26",
   "metadata": {},
   "outputs": [
    {
     "name": "stdout",
     "output_type": "stream",
     "text": [
      "Accuracy: 0.973\n"
     ]
    }
   ],
   "source": [
    "accuracy = accuracy_score(Y_test, Y_pred)\n",
    "print(\"Accuracy:\", accuracy)"
   ]
  },
  {
   "cell_type": "code",
   "execution_count": 9,
   "id": "c2785730",
   "metadata": {},
   "outputs": [
    {
     "data": {
      "image/png": "[encoded data removed]",
      "text/plain": [
       "<Figure size 720x432 with 1 Axes>"
      ]
     },
     "metadata": {
      "needs_background": "light"
     },
     "output_type": "display_data"
    }
   ],
   "source": [
    "import matplotlib.pyplot as plt\n",
    "plt.figure(figsize=(10, 6))\n",
    "plt.scatter(Y_test, Y_pred, color='blue', alpha=0.5)\n",
    "plt.plot([Y_test.min(), Y_test.max()], [Y_test.min(), Y_test.max()], 'k--', lw=2)\n",
    "plt.xlabel('Actual')\n",
    "plt.ylabel('Predicted')\n",
    "plt.title('Actual vs Predicted Letters')\n",
    "plt.grid(True)\n",
    "plt.show()"
   ]
  },
  {
   "cell_type": "code",
   "execution_count": 16,
   "id": "00a8be70",
   "metadata": {},
   "outputs": [
    {
     "name": "stdout",
     "output_type": "stream",
     "text": [
      "Enter values for each feature (separated by spaces or commas):\n",
      "2,2,3,3,2,7,7,7,6,6,6,4,2,8,3,7\n",
      "Predicted output letter: D\n"
     ]
    },
    {
     "name": "stderr",
     "output_type": "stream",
     "text": [
      "C:\\Users\\Deokar\\anaconda3\\lib\\site-packages\\sklearn\\base.py:450: UserWarning: X does not have valid feature names, but StandardScaler was fitted with feature names\n",
      "  warnings.warn(\n"
     ]
    }
   ],
   "source": [
    "def predict_letter(features):\n",
    "    # Preprocess features\n",
    "    features_scaled = scaler.transform([features])  # Assuming features is a list or array\n",
    "    \n",
    "    # Make prediction\n",
    "    predicted_letter = mlp.predict(features_scaled)\n",
    "    \n",
    "    return predicted_letter[0]\n",
    "\n",
    "def get_user_input():\n",
    "    input_features = []\n",
    "    print(\"Enter values for each feature (separated by spaces or commas):\")\n",
    "    features_input = input().strip().replace(\",\", \" \").split()\n",
    "    try:\n",
    "        input_features = [float(feature) for feature in features_input]\n",
    "    except ValueError:\n",
    "        print(\"Invalid input. Please enter numeric values only.\")\n",
    "    return input_features\n",
    "\n",
    "# Get user input\n",
    "input_features = get_user_input()\n",
    "\n",
    "# Predict output letter if input is valid\n",
    "if input_features:\n",
    "    predicted_output = predict_letter(input_features)\n",
    "    print(\"Predicted output letter:\", predicted_output)\n",
    "\n",
    "\n"
   ]
  },
  {
   "cell_type": "markdown",
   "id": "86a2b36f",
   "metadata": {},
   "source": []
  },
  {
   "cell_type": "code",
   "execution_count": null,
   "id": "00a0374c",
   "metadata": {},
   "outputs": [],
   "source": []
  }
 ],
 "metadata": {
  "kernelspec": {
   "display_name": "Python 3 (ipykernel)",
   "language": "python",
   "name": "python3"
  },
  "language_info": {
   "codemirror_mode": {
    "name": "ipython",
    "version": 3
   },
   "file_extension": ".py",
   "mimetype": "text/x-python",
   "name": "python",
   "nbconvert_exporter": "python",
   "pygments_lexer": "ipython3",
   "version": "3.9.12"
  }
 },
 "nbformat": 4,
 "nbformat_minor": 5
}
